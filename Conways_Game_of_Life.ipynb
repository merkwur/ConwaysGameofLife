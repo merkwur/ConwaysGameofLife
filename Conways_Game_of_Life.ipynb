{
 "cells": [
  {
   "cell_type": "code",
   "execution_count": null,
   "metadata": {
    "id": "FGW9bGQYYZFJ"
   },
   "outputs": [],
   "source": [
    "%matplotlib notebook\n",
    "import warnings\n",
    "warnings.filterwarnings('ignore')\n",
    "import numpy as np\n",
    "from scipy.ndimage import convolve\n",
    "import matplotlib\n",
    "matplotlib.use('WebAgg')\n",
    "import matplotlib.pyplot as plt\n",
    "import matplotlib.animation as animation\n",
    "from matplotlib import style\n",
    "style.use('dark_background')\n",
    "from IPython.display import HTML"
   ]
  },
  {
   "cell_type": "code",
   "execution_count": null,
   "metadata": {
    "id": "3W9l706wh6fn"
   },
   "outputs": [],
   "source": [
    "constant = 42 # width and length of the grid\n",
    "probability = 0.5 # distribution of ones on the grid\n",
    "size = (constant, constant) \n",
    "# matplotlib animation variables\n",
    "frames = 120  \n",
    "interval = 100"
   ]
  },
  {
   "cell_type": "code",
   "execution_count": null,
   "metadata": {
    "id": "Gbw9kjeks8ti",
    "scrolled": true
   },
   "outputs": [],
   "source": [
    "# initialize the grids\n",
    "status = np.random.binomial(1, probability, size=size) # initialize grid\n",
    "base = np.zeros(size) # for the tracking purpose\n",
    "\n",
    "# styling the plot\n",
    "matplotlib.rc('axes', edgecolor='blue')\n",
    "fig, ax = plt.subplots(1, figsize=(6,6))\n",
    "ticks = np.arange(-.5, constant, 1)\n",
    "ax.set_xticks(ticks)\n",
    "ax.set_yticks(ticks)\n",
    "plt.tick_params(\n",
    "    axis='both',      \n",
    "    which='both', \n",
    "    color='blue',    \n",
    "    bottom=True,      \n",
    "    top=True,  \n",
    "    left=True,\n",
    "    right=True,        \n",
    "    labelbottom=False,\n",
    "    labelleft=False)\n",
    "ax.set_xlim(-.1,constant-.1)\n",
    "ax.set_ylim(-.1, constant-.1)\n",
    "ax.grid(c='k',lw=2, alpha=.75)\n",
    "\n",
    "\n",
    "def check_alive(status):\n",
    "    '''\n",
    "    Counting neighbors using the convolution opearation.\n",
    "    '''\n",
    "    kernel = np.array([[1, 1, 1],\n",
    "                       [1, 0, 1],\n",
    "                       [1, 1, 1]])\n",
    "    convolv = convolve(status, kernel, mode='constant', cval=0.)\n",
    "    return convolv\n",
    " \n",
    "def trace(status):\n",
    "    \"\"\"records the history of the living cells on the grid\"\"\"\n",
    "    global base\n",
    "    \n",
    "    base += status * .01 \n",
    "    base -= .001\n",
    "    \n",
    "    return np.clip(base, 0, 1) \n",
    " \n",
    "def next_gen(status):\n",
    "    '''implementing the rules'''\n",
    "    # Ah, ha, ha, ha\n",
    "    stayin_alive = check_alive(status)\n",
    "    two_neigh = np.array((stayin_alive == 2)) * status # multiplying with status prevents the newborn cell \n",
    "    three_neigh = np.array((stayin_alive == 3))\n",
    "    new_status = (two_neigh + three_neigh)\n",
    " \n",
    "    return new_status.astype(np.float32)\n",
    " \n",
    "im = plt.imshow(next_gen(status), animated=True, cmap='gnuplot2')\n",
    " \n",
    "def update(frame):\n",
    "    global status\n",
    "    status = next_gen(status)\n",
    "    tracer = trace(status)\n",
    "    result = (status + tracer).clip(0,1)\n",
    "    im.set_array(result)\n",
    "    return im, \n",
    " \n",
    "ani = animation.FuncAnimation(fig, update, interval=interval, \n",
    "                              frames=frames, blit=True)  \n",
    " \n",
    "HTML(ani.to_html5_video())"
   ]
  }
 ],
 "metadata": {
  "colab": {
   "collapsed_sections": [],
   "name": "Conways_Game_of_Life.ipynb",
   "provenance": []
  },
  "kernelspec": {
   "display_name": "Python 3",
   "language": "python",
   "name": "python3"
  },
  "language_info": {
   "codemirror_mode": {
    "name": "ipython",
    "version": 3
   },
   "file_extension": ".py",
   "mimetype": "text/x-python",
   "name": "python",
   "nbconvert_exporter": "python",
   "pygments_lexer": "ipython3",
   "version": "3.8.8"
  }
 },
 "nbformat": 4,
 "nbformat_minor": 1
}
